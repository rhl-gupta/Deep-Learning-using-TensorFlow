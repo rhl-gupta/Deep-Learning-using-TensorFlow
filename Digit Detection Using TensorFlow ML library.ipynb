{
 "cells": [
  {
   "cell_type": "markdown",
   "metadata": {},
   "source": [
    "##  Highlights of the project\n",
    "- Objective - To make a deep learning model to detect an image having digit between 0-9\n",
    "- Dataset used -  MNIST dataset  \n",
    "- ML library - TensorFlow "
   ]
  },
  {
   "cell_type": "markdown",
   "metadata": {},
   "source": [
    "### Importing libraries"
   ]
  },
  {
   "cell_type": "code",
   "execution_count": 47,
   "metadata": {},
   "outputs": [],
   "source": [
    "import tensorflow as tf\n",
    "import matplotlib.pyplot as plt"
   ]
  },
  {
   "cell_type": "markdown",
   "metadata": {},
   "source": [
    "### Loading dataset"
   ]
  },
  {
   "cell_type": "code",
   "execution_count": 48,
   "metadata": {},
   "outputs": [
    {
     "name": "stdout",
     "output_type": "stream",
     "text": [
      "Extracting C:\\Users\\Rahul\\Desktop\\Mail\\Data_MNIST\\train-images-idx3-ubyte.gz\n",
      "Extracting C:\\Users\\Rahul\\Desktop\\Mail\\Data_MNIST\\train-labels-idx1-ubyte.gz\n",
      "Extracting C:\\Users\\Rahul\\Desktop\\Mail\\Data_MNIST\\t10k-images-idx3-ubyte.gz\n",
      "Extracting C:\\Users\\Rahul\\Desktop\\Mail\\Data_MNIST\\t10k-labels-idx1-ubyte.gz\n"
     ]
    }
   ],
   "source": [
    "from tensorflow.examples.tutorials.mnist import input_data\n",
    "mnist = input_data.read_data_sets(\"C:\\\\Users\\\\Rahul\\\\Desktop\\\\Mail\\\\Data_MNIST\", one_hot=True)"
   ]
  },
  {
   "cell_type": "code",
   "execution_count": 49,
   "metadata": {},
   "outputs": [],
   "source": [
    "X_train = mnist.train.images\n",
    "Y_train = mnist.train.labels\n",
    "X_test = mnist.test.images\n",
    "Y_test = mnist.test.labels"
   ]
  },
  {
   "cell_type": "markdown",
   "metadata": {},
   "source": [
    "### Shape/Dimensions of train & test datasets"
   ]
  },
  {
   "cell_type": "code",
   "execution_count": 50,
   "metadata": {},
   "outputs": [
    {
     "name": "stdout",
     "output_type": "stream",
     "text": [
      "Shape of training features datset : (55000, 784)\n",
      "Shape of training labels datset : (55000, 10)\n",
      "Shape of test features datset : (10000, 784)\n",
      "Shape of test features datset : (10000, 10)\n"
     ]
    }
   ],
   "source": [
    "print(\"Shape of training features datset : \" + str(X_train.shape))\n",
    "print(\"Shape of training labels datset : \" + str(Y_train.shape))\n",
    "print(\"Shape of test features datset : \" + str(X_test.shape))\n",
    "print(\"Shape of test features datset : \" + str(Y_test.shape))"
   ]
  },
  {
   "cell_type": "markdown",
   "metadata": {},
   "source": [
    "### Observations after loading the dataset\n",
    "\n",
    "- Dataset is already flattended\n",
    "- 55000 training examples\n",
    "- Image is $28\\times28$ pixel ($784 = 28\\times28$) \n",
    "- 10000 testing exmaples"
   ]
  },
  {
   "cell_type": "markdown",
   "metadata": {},
   "source": [
    "### Plotting the image"
   ]
  },
  {
   "cell_type": "code",
   "execution_count": 54,
   "metadata": {},
   "outputs": [
    {
     "data": {
      "text/plain": [
       "<matplotlib.image.AxesImage at 0x156029fd9b0>"
      ]
     },
     "execution_count": 54,
     "metadata": {},
     "output_type": "execute_result"
    },
    {
     "data": {
      "image/png": "[encoded data removed]",
      "text/plain": [
       "<matplotlib.figure.Figure at 0x1560285d438>"
      ]
     },
     "metadata": {},
     "output_type": "display_data"
    }
   ],
   "source": [
    "# Change the value of index to plot the respective training example\n",
    "index=3\n",
    "plt.imshow(X_train[index,:].reshape(28,28))"
   ]
  },
  {
   "cell_type": "markdown",
   "metadata": {},
   "source": [
    "### Normalizing the dataset"
   ]
  },
  {
   "cell_type": "code",
   "execution_count": 143,
   "metadata": {},
   "outputs": [],
   "source": [
    "X_train = X_train/255\n",
    "Y_train = Y_train/255\n",
    "X_test = X_test/255\n",
    "Y_test = Y_test/255"
   ]
  },
  {
   "cell_type": "markdown",
   "metadata": {},
   "source": [
    "### Start of Computational TF graph"
   ]
  },
  {
   "cell_type": "code",
   "execution_count": 149,
   "metadata": {
    "scrolled": false
   },
   "outputs": [
    {
     "name": "stdout",
     "output_type": "stream",
     "text": [
      "0.9136\n"
     ]
    }
   ],
   "source": [
    "# Create placeholders for X(features) and Y(labels)\n",
    "x = tf.placeholder(tf.float32,shape=(None,784))\n",
    "y = tf.placeholder(tf.float32,shape=(None,10))\n",
    "\n",
    "# Defining & initializing the weights and bias\n",
    "w = tf.Variable(tf.zeros([784,10]))\n",
    "b = tf.Variable(tf.zeros([10]))\n",
    "\n",
    "# Calculating the logit (xw+b)\n",
    "z = tf.add(tf.matmul(x,w),b)\n",
    "\n",
    "# Passing logit through activation function (softmax is used here)\n",
    "yhat = tf.nn.softmax(z)\n",
    "\n",
    "# Calculating the cost (cross entropy is used here)\n",
    "cross_entropy = tf.nn.softmax_cross_entropy_with_logits_v2(logits=z,labels=y)\n",
    "\n",
    "# Backward propagation using Gradient Descent\n",
    "training_the_model = tf.train.AdadeltaOptimizer(learning_rate=0.7).minimize(cross_entropy)\n",
    "\n",
    "# Starting the TF session\n",
    "sess = tf.Session()\n",
    "init = tf.global_variables_initializer()\n",
    "sess.run(init)\n",
    "\n",
    "# Making small batches for 100 examples and iterating 1000 times \n",
    "for _ in range(1900):\n",
    "    batch_xs, batch_ys = mnist.train.next_batch(300)\n",
    "    sess.run(training_the_model, feed_dict={x: batch_xs, y: batch_ys})\n",
    "    \n",
    "# Calculating the accuracy\n",
    "correct_prediction = tf.equal(tf.argmax(y,1), tf.argmax(yhat,1))\n",
    "accuracy = tf.reduce_mean(tf.cast(correct_prediction, tf.float32))\n",
    "\n",
    "# Passing test dataset and calculating the accuracy\n",
    "print(sess.run(accuracy, feed_dict={x: mnist.test.images, y: mnist.test.labels}))\n",
    "\n",
    "sess.close()"
   ]
  },
  {
   "cell_type": "code",
   "execution_count": null,
   "metadata": {},
   "outputs": [],
   "source": []
  }
 ],
 "metadata": {
  "kernelspec": {
   "display_name": "Python 3",
   "language": "python",
   "name": "python3"
  },
  "language_info": {
   "codemirror_mode": {
    "name": "ipython",
    "version": 3
   },
   "file_extension": ".py",
   "mimetype": "text/x-python",
   "name": "python",
   "nbconvert_exporter": "python",
   "pygments_lexer": "ipython3",
   "version": "3.6.1"
  }
 },
 "nbformat": 4,
 "nbformat_minor": 2
}
